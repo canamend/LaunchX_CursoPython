{
 "cells": [
  {
   "cell_type": "markdown",
   "metadata": {},
   "source": [
    "## Ejercicio 1.a"
   ]
  },
  {
   "cell_type": "code",
   "execution_count": 4,
   "metadata": {},
   "outputs": [
    {
     "name": "stdout",
     "output_type": "stream",
     "text": [
      "¡Mira hacia arriba!\n"
     ]
    }
   ],
   "source": [
    "asteroide = 49\n",
    "if asteroide > 25:\n",
    "    print('¡Mira hacia arriba!')\n",
    "else:\n",
    "    print('Vamo\\' a calmarno ')"
   ]
  },
  {
   "cell_type": "markdown",
   "metadata": {},
   "source": [
    "## Ejercicio 1.b"
   ]
  },
  {
   "cell_type": "code",
   "execution_count": 7,
   "metadata": {},
   "outputs": [
    {
     "name": "stdout",
     "output_type": "stream",
     "text": [
      "Vamo' a calmarno \n"
     ]
    }
   ],
   "source": [
    "asteroide = 19\n",
    "if asteroide > 25:\n",
    "    print('¡Mira hacia arriba!')\n",
    "elif asteroide > 20:\n",
    "    print('Mira hacia arriba y podrás ver un rayo de luz')\n",
    "else:\n",
    "    print('Vamo\\' a calmarno ')"
   ]
  },
  {
   "cell_type": "markdown",
   "metadata": {},
   "source": [
    "## Ejercicio 2"
   ]
  },
  {
   "cell_type": "code",
   "execution_count": 9,
   "metadata": {},
   "outputs": [
    {
     "name": "stdout",
     "output_type": "stream",
     "text": [
      "Moriremos_todos.jpg\n"
     ]
    }
   ],
   "source": [
    "vel_asteroide = int(input('Dra. Dibiasky ingrese la velocidad del asteroide: '))\n",
    "tam_asteroide = int(input('Ahora ingrese su tamaño: '))\n",
    "\n",
    "if vel_asteroide > 25 and tam_asteroide > 25:\n",
    "    print('Moriremos_todos.jpg')\n",
    "elif vel_asteroide >= 20:\n",
    "    print('Mira hacia arriba y podrás ver un rayo de luz!')\n",
    "elif tam_asteroide < 25:\n",
    "    print('Vamo\\' a calmarno')\n",
    "else:\n",
    "    print('Vamo\\' a calmarno')"
   ]
  }
 ],
 "metadata": {
  "interpreter": {
   "hash": "74953701bd57b80b717d5c484b45be8bdac096fbe04ae4e499cb701423a3312a"
  },
  "kernelspec": {
   "display_name": "Python 3.9.7 ('launchx')",
   "language": "python",
   "name": "python3"
  },
  "language_info": {
   "codemirror_mode": {
    "name": "ipython",
    "version": 3
   },
   "file_extension": ".py",
   "mimetype": "text/x-python",
   "name": "python",
   "nbconvert_exporter": "python",
   "pygments_lexer": "ipython3",
   "version": "3.9.7"
  },
  "orig_nbformat": 4
 },
 "nbformat": 4,
 "nbformat_minor": 2
}
