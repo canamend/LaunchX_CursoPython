{
 "cells": [
  {
   "cell_type": "markdown",
   "metadata": {},
   "source": [
    "## Ejercicio 1"
   ]
  },
  {
   "cell_type": "code",
   "execution_count": 10,
   "metadata": {},
   "outputs": [
    {
     "name": "stdout",
     "output_type": "stream",
     "text": [
      "\n",
      "On average, the Moon moves 4cm away from the Earth every year\n"
     ]
    }
   ],
   "source": [
    "text = \"\"\"Interesting facts about the Moon. The Moon is Earth's only satellite. There are several interesting facts about the Moon and how it affects life here on Earth. \n",
    "On average, the Moon moves 4cm away from the Earth every year. This yearly drift is not significant enough to cause immediate effects on Earth.\"\"\"\n",
    "\n",
    "sentences = text.split('. ')\n",
    "\n",
    "keywords = ['average', 'temperature', 'distance']\n",
    "for sentence in sentences:\n",
    "    if any(word in sentence for word in keywords):\n",
    "        print(sentence.replace(' C', ' Celsius'))"
   ]
  },
  {
   "cell_type": "markdown",
   "metadata": {},
   "source": [
    "## Ejercicio 2"
   ]
  },
  {
   "cell_type": "code",
   "execution_count": 12,
   "metadata": {},
   "outputs": [
    {
     "name": "stdout",
     "output_type": "stream",
     "text": [
      "Gravity Facts About The Moon \n",
      "Name of the planet: Earth\n",
      "Gravity on the Moon: 1.6199999999999999 m/s\n",
      "Gravity facts about Mars\n",
      "Name of the planet: Ganymede\n",
      "Gravity on Mars: 1.4300000000000002 m/s\n",
      "\n"
     ]
    }
   ],
   "source": [
    "name = \"the Moon\"\n",
    "gravity = 0.00162 # in kms\n",
    "planet = \"Earth\"\n",
    "\n",
    "titulo = f\"Gravity facts about {name} \\n\".title()\n",
    "info = f\"Name of the planet: {planet}\\nGravity on {name}: {gravity*1000} m/s\"\n",
    "plantilla = titulo + info\n",
    "print(plantilla)\n",
    "\n",
    "name = \"Mars\"\n",
    "gravity = 0.00143 # in kms\n",
    "planet = \"Ganymede\"\n",
    "\n",
    "nueva_plantilla = \"\"\"Gravity facts about {name}\n",
    "Name of the planet: {planet}\n",
    "Gravity on {name}: {gravity} m/s\n",
    "\"\"\"\n",
    "print(nueva_plantilla.format(name=name, planet=planet, gravity=gravity*1000))"
   ]
  }
 ],
 "metadata": {
  "interpreter": {
   "hash": "74953701bd57b80b717d5c484b45be8bdac096fbe04ae4e499cb701423a3312a"
  },
  "kernelspec": {
   "display_name": "Python 3.9.7 ('launchx')",
   "language": "python",
   "name": "python3"
  },
  "language_info": {
   "codemirror_mode": {
    "name": "ipython",
    "version": 3
   },
   "file_extension": ".py",
   "mimetype": "text/x-python",
   "name": "python",
   "nbconvert_exporter": "python",
   "pygments_lexer": "ipython3",
   "version": "3.9.7"
  },
  "orig_nbformat": 4
 },
 "nbformat": 4,
 "nbformat_minor": 2
}
