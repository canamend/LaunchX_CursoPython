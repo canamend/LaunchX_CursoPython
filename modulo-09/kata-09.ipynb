{
 "cells": [
  {
   "cell_type": "markdown",
   "metadata": {},
   "source": [
    "# Ejercicio 1"
   ]
  },
  {
   "cell_type": "code",
   "execution_count": 6,
   "metadata": {},
   "outputs": [
    {
     "name": "stdout",
     "output_type": "stream",
     "text": [
      "Fuel report:\n",
      "\tAverage: 6.0\n",
      "\tTank 1: 8\n",
      "\tTank 2: 4\n",
      "\tTank 3: 6\n"
     ]
    }
   ],
   "source": [
    "def fuel_report(tank1, tank2, tank3):\n",
    "    print (f\"Fuel report:\\n\\tAverage: {average_fuel(tank1, tank2, tank3)}\\n\\tTank 1: {tank1}\\n\\tTank 2: {tank2}\\n\\tTank 3: {tank3}\")\n",
    "\n",
    "def average_fuel(*tanks):\n",
    "    return sum(tanks)/len(tanks)\n",
    "\n",
    "fuel_report(8, 4, 6)"
   ]
  }
 ],
 "metadata": {
  "interpreter": {
   "hash": "74953701bd57b80b717d5c484b45be8bdac096fbe04ae4e499cb701423a3312a"
  },
  "kernelspec": {
   "display_name": "Python 3.9.7 ('launchx')",
   "language": "python",
   "name": "python3"
  },
  "language_info": {
   "codemirror_mode": {
    "name": "ipython",
    "version": 3
   },
   "file_extension": ".py",
   "mimetype": "text/x-python",
   "name": "python",
   "nbconvert_exporter": "python",
   "pygments_lexer": "ipython3",
   "version": "3.9.7"
  },
  "orig_nbformat": 4
 },
 "nbformat": 4,
 "nbformat_minor": 2
}
