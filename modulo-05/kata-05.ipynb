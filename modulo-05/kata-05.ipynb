{
 "cells": [
  {
   "cell_type": "code",
   "execution_count": 1,
   "metadata": {},
   "outputs": [
    {
     "name": "stdout",
     "output_type": "stream",
     "text": [
      "La distancia de la tierra a Júpiter es de 628949330 km\n"
     ]
    }
   ],
   "source": [
    "jupyter_distance = 778547200\n",
    "earth_distance = 149597870\n",
    "\n",
    "distance_between = jupyter_distance - earth_distance\n",
    "\n",
    "print(f\"La distancia de la tierra a Júpiter es de {distance_between} km\")"
   ]
  },
  {
   "cell_type": "code",
   "execution_count": 4,
   "metadata": {},
   "outputs": [
    {
     "name": "stdout",
     "output_type": "stream",
     "text": [
      "La distancia en millas es 390577533\n"
     ]
    }
   ],
   "source": [
    "distanceInMiles = int(distance_between * 0.621)\n",
    "print(f\"La distancia en millas es {distanceInMiles}\")"
   ]
  },
  {
   "cell_type": "markdown",
   "metadata": {},
   "source": [
    "\n",
    "## Ejercicio 2\n"
   ]
  },
  {
   "cell_type": "code",
   "execution_count": 5,
   "metadata": {},
   "outputs": [
    {
     "name": "stdout",
     "output_type": "stream",
     "text": [
      "La distancia del primer planeta al segundo es de 1283900000 km\n",
      "La distancia en millas es 797301900\n"
     ]
    }
   ],
   "source": [
    "planet1_distance = int(input(\"¿Cuál es la distancia del primer planeta con respecto al sol?\"))\n",
    "planet2_distance = int(input(\"¿Cuál es la distancia del segundo planeta con respecto al sol?\"))\n",
    "\n",
    "distance_between = abs(planet1_distance - planet2_distance)\n",
    "print(f\"La distancia del primer planeta al segundo es de {distance_between} km\")\n",
    "\n",
    "distanceInMiles = int(distance_between * 0.621)\n",
    "print(f\"La distancia en millas es {distanceInMiles}\")\n"
   ]
  }
 ],
 "metadata": {
  "interpreter": {
   "hash": "74953701bd57b80b717d5c484b45be8bdac096fbe04ae4e499cb701423a3312a"
  },
  "kernelspec": {
   "display_name": "Python 3.9.7 ('launchx')",
   "language": "python",
   "name": "python3"
  },
  "language_info": {
   "codemirror_mode": {
    "name": "ipython",
    "version": 3
   },
   "file_extension": ".py",
   "mimetype": "text/x-python",
   "name": "python",
   "nbconvert_exporter": "python",
   "pygments_lexer": "ipython3",
   "version": "3.9.7"
  },
  "orig_nbformat": 4
 },
 "nbformat": 4,
 "nbformat_minor": 2
}
